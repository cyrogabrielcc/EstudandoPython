{
 "cells": [
  {
   "cell_type": "markdown",
   "id": "85a11f36",
   "metadata": {},
   "source": [
    "# Data Structure"
   ]
  },
  {
   "cell_type": "markdown",
   "id": "ce436d5b",
   "metadata": {},
   "source": [
    "###### Criando uma lista"
   ]
  },
  {
   "cell_type": "code",
   "execution_count": 1,
   "id": "67a31521",
   "metadata": {},
   "outputs": [
    {
     "name": "stdout",
     "output_type": "stream",
     "text": [
      "['A', 'B', 'C', 'D']\n"
     ]
    }
   ],
   "source": [
    "lista1 = [\"A\", \"B\", \"C\", \"D\"]\n",
    "print(lista1)"
   ]
  },
  {
   "cell_type": "code",
   "execution_count": 2,
   "id": "525e9bc2",
   "metadata": {},
   "outputs": [
    {
     "name": "stdout",
     "output_type": "stream",
     "text": [
      "[1, 2, 3, 'quatro']\n"
     ]
    }
   ],
   "source": [
    "lista2 = [1,2,3, \"quatro\"]\n",
    "print(lista2)"
   ]
  },
  {
   "cell_type": "code",
   "execution_count": 11,
   "id": "24dd5ab4",
   "metadata": {},
   "outputs": [
    {
     "name": "stdout",
     "output_type": "stream",
     "text": [
      "[[1, 2, 3], [4, 5, 6], [7, 8, 9]]\n",
      "\n",
      " 1\n"
     ]
    }
   ],
   "source": [
    "lista_aninhada = [[1,2,3],[4,5,6],[7,8,9]]\n",
    "print(lista_aninhada)\n",
    "\n",
    "# Pegando o primeiro indice da primeira lista\n",
    "print(\"\\n\",lista_aninhada[0][0])"
   ]
  },
  {
   "cell_type": "code",
   "execution_count": 3,
   "id": "0b148e71",
   "metadata": {},
   "outputs": [
    {
     "data": {
      "text/plain": [
       "range(1, 50)"
      ]
     },
     "execution_count": 3,
     "metadata": {},
     "output_type": "execute_result"
    }
   ],
   "source": [
    "lista = range(1,50)\n",
    "lista"
   ]
  },
  {
   "cell_type": "code",
   "execution_count": null,
   "id": "84f3cb12",
   "metadata": {},
   "outputs": [],
   "source": []
  }
 ],
 "metadata": {
  "kernelspec": {
   "display_name": "Python 3 (ipykernel)",
   "language": "python",
   "name": "python3"
  },
  "language_info": {
   "codemirror_mode": {
    "name": "ipython",
    "version": 3
   },
   "file_extension": ".py",
   "mimetype": "text/x-python",
   "name": "python",
   "nbconvert_exporter": "python",
   "pygments_lexer": "ipython3",
   "version": "3.11.5"
  }
 },
 "nbformat": 4,
 "nbformat_minor": 5
}
