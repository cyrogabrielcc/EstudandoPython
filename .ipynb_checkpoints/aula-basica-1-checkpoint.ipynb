{
 "cells": [
  {
   "cell_type": "markdown",
   "id": "a8a382fe",
   "metadata": {},
   "source": [
    "# Introdução a lógica de programação com python"
   ]
  },
  {
   "cell_type": "markdown",
   "id": "cc7367c8",
   "metadata": {},
   "source": [
    "### Lógica 1"
   ]
  },
  {
   "cell_type": "code",
   "execution_count": 7,
   "id": "21210b21",
   "metadata": {},
   "outputs": [
    {
     "name": "stdout",
     "output_type": "stream",
     "text": [
      "Seja bem vindo: \n",
      "\n",
      "A área é: 69.75\n"
     ]
    }
   ],
   "source": [
    "### Área do paralelogramo\n",
    "\n",
    "print (\"Seja bem vindo: \")\n",
    "altura = float(input(\"insira o valor da altura: \"))\n",
    "base= float(input(\"insira o valor da base: \"))\n",
    "\n",
    "areaParalelogramo = base * altura\n",
    "print(\"\\nA área é:\", areaParalelogramo)"
   ]
  },
  {
   "cell_type": "code",
   "execution_count": 13,
   "id": "de89eefd",
   "metadata": {},
   "outputs": [
    {
     "name": "stdout",
     "output_type": "stream",
     "text": [
      "### Calculadora ###\n",
      "Insira o valor 1: 5\n",
      "Insira o valor 2: 5\n",
      "10.0\n",
      "0.0\n",
      "1.0\n",
      "3125.0\n"
     ]
    }
   ],
   "source": [
    "print(\"### Operações Matemáticas ###\")\n",
    "\n",
    "v1 = float(input(\"Insira o valor 1: \"))\n",
    "v2 = float(input(\"Insira o valor 2: \"))\n",
    "\n",
    "def soma(a, b):\n",
    "    return a+b\n",
    "\n",
    "def subtracao(a, b):\n",
    "    return a-b\n",
    "\n",
    "def divisao(a, b):\n",
    "    return a/b\n",
    "\n",
    "def mulplicacao(a, b):\n",
    "    return a*b\n",
    "\n",
    "def potencia(a, b):\n",
    "    return a**b\n",
    "\n",
    "print(soma(v1,v2))\n",
    "print(subtracao(v1,v2))\n",
    "print(divisao(v1,v2))\n",
    "print(potencia(v1,v2))"
   ]
  },
  {
   "cell_type": "code",
   "execution_count": null,
   "id": "f3fefad0",
   "metadata": {},
   "outputs": [],
   "source": []
  }
 ],
 "metadata": {
  "kernelspec": {
   "display_name": "Python 3 (ipykernel)",
   "language": "python",
   "name": "python3"
  },
  "language_info": {
   "codemirror_mode": {
    "name": "ipython",
    "version": 3
   },
   "file_extension": ".py",
   "mimetype": "text/x-python",
   "name": "python",
   "nbconvert_exporter": "python",
   "pygments_lexer": "ipython3",
   "version": "3.11.5"
  }
 },
 "nbformat": 4,
 "nbformat_minor": 5
}
