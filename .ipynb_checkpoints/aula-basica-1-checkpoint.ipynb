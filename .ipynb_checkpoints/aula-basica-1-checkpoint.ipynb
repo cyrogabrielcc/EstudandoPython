{
 "cells": [
  {
   "cell_type": "markdown",
   "id": "a8a382fe",
   "metadata": {},
   "source": [
    "# Introdução a lógica de programação com python"
   ]
  },
  {
   "cell_type": "markdown",
   "id": "cc7367c8",
   "metadata": {},
   "source": [
    "### Lógica 1"
   ]
  },
  {
   "cell_type": "code",
   "execution_count": 1,
   "id": "21210b21",
   "metadata": {},
   "outputs": [
    {
     "name": "stdout",
     "output_type": "stream",
     "text": [
      "Seja bem vindo: \n",
      "insira o valor da altura: 5\n",
      "insira o valor da base: 15\n",
      "\n",
      "A área é: 75.0\n"
     ]
    }
   ],
   "source": [
    "### Área do paralelogramo\n",
    "\n",
    "print (\"Seja bem vindo: \")\n",
    "altura = float(input(\"insira o valor da altura: \"))\n",
    "base= float(input(\"insira o valor da base: \"))\n",
    "\n",
    "areaParalelogramo = base * altura\n",
    "print(\"\\nA área é:\", areaParalelogramo)"
   ]
  },
  {
   "cell_type": "code",
   "execution_count": 2,
   "id": "de89eefd",
   "metadata": {},
   "outputs": [
    {
     "name": "stdout",
     "output_type": "stream",
     "text": [
      "### Operações Matemáticas ###\n",
      "Insira o valor 1: 1\n",
      "Insira o valor 2: 9\n",
      "10.0\n",
      "-8.0\n",
      "0.1111111111111111\n",
      "1.0\n"
     ]
    }
   ],
   "source": [
    "print(\"### Operações Matemáticas ###\")\n",
    "\n",
    "v1 = float(input(\"Insira o valor 1: \"))\n",
    "v2 = float(input(\"Insira o valor 2: \"))\n",
    "\n",
    "def soma(a, b):\n",
    "    return a+b\n",
    "\n",
    "def subtracao(a, b):\n",
    "    return a-b\n",
    "\n",
    "def divisao(a, b):\n",
    "    return a/b\n",
    "\n",
    "def mulplicacao(a, b):\n",
    "    return a*b\n",
    "\n",
    "def potencia(a, b):\n",
    "    return a**b\n",
    "\n",
    "print(soma(v1,v2))\n",
    "print(subtracao(v1,v2))\n",
    "print(divisao(v1,v2))\n",
    "print(potencia(v1,v2))"
   ]
  },
  {
   "cell_type": "markdown",
   "id": "ad7def5a",
   "metadata": {},
   "source": [
    "##### Bubble Sort"
   ]
  },
  {
   "cell_type": "code",
   "execution_count": 3,
   "id": "2cafd46e",
   "metadata": {},
   "outputs": [],
   "source": [
    "def bubbleSort(arr):\n",
    "    #definindo tamanho da lista e colocando o tamanho da lista sendo inserida\n",
    "    n=len(arr)\n",
    "    #para cada elemento i do array\n",
    "    for i in range(n):\n",
    "        #para cada elemento j no array\n",
    "        for j in range(0, n-i-1):\n",
    "            #se elemento i for maior que o j\n",
    "            if (arr[j] > arr[j+1]):\n",
    "                #troque os elementos i e j\n",
    "                arr[j], arr[j+1]= arr[j+1], arr[j]\n",
    "    return arr\n",
    "    "
   ]
  },
  {
   "cell_type": "code",
   "execution_count": 35,
   "id": "1a547e3f",
   "metadata": {},
   "outputs": [],
   "source": [
    "x = [51,4,8,4,8,42,1,8,84,66,1,1,4,4,841,85]\n"
   ]
  },
  {
   "cell_type": "code",
   "execution_count": 36,
   "id": "0ad8fd94",
   "metadata": {
    "scrolled": false
   },
   "outputs": [
    {
     "data": {
      "text/plain": [
       "[1, 1, 1, 4, 4, 4, 4, 8, 8, 8, 42, 51, 66, 84, 85, 841]"
      ]
     },
     "execution_count": 36,
     "metadata": {},
     "output_type": "execute_result"
    }
   ],
   "source": [
    "bubbleSort(x)"
   ]
  },
  {
   "cell_type": "markdown",
   "id": "e70be61f",
   "metadata": {},
   "source": [
    "### Linguagem Python Nível Introdutório - Variáveis, Tipos e Estruturas de Dados"
   ]
  },
  {
   "cell_type": "code",
   "execution_count": 37,
   "id": "f6cb807c",
   "metadata": {},
   "outputs": [
    {
     "data": {
      "text/plain": [
       "65"
      ]
     },
     "execution_count": 37,
     "metadata": {},
     "output_type": "execute_result"
    }
   ],
   "source": [
    "50+15"
   ]
  },
  {
   "cell_type": "code",
   "execution_count": 38,
   "id": "70ebcff8",
   "metadata": {},
   "outputs": [
    {
     "data": {
      "text/plain": [
       "35"
      ]
     },
     "execution_count": 38,
     "metadata": {},
     "output_type": "execute_result"
    }
   ],
   "source": [
    "50-15"
   ]
  },
  {
   "cell_type": "code",
   "execution_count": 39,
   "id": "6af47acc",
   "metadata": {},
   "outputs": [
    {
     "data": {
      "text/plain": [
       "750"
      ]
     },
     "execution_count": 39,
     "metadata": {},
     "output_type": "execute_result"
    }
   ],
   "source": [
    "50*15"
   ]
  },
  {
   "cell_type": "code",
   "execution_count": 40,
   "id": "6e7a8025",
   "metadata": {},
   "outputs": [
    {
     "data": {
      "text/plain": [
       "3.3333333333333335"
      ]
     },
     "execution_count": 40,
     "metadata": {},
     "output_type": "execute_result"
    }
   ],
   "source": [
    "50/15"
   ]
  },
  {
   "cell_type": "code",
   "execution_count": 41,
   "id": "a85f0308",
   "metadata": {},
   "outputs": [
    {
     "data": {
      "text/plain": [
       "3"
      ]
     },
     "execution_count": 41,
     "metadata": {},
     "output_type": "execute_result"
    }
   ],
   "source": [
    "50//15"
   ]
  },
  {
   "cell_type": "code",
   "execution_count": 42,
   "id": "06c4415c",
   "metadata": {},
   "outputs": [
    {
     "data": {
      "text/plain": [
       "2"
      ]
     },
     "execution_count": 42,
     "metadata": {},
     "output_type": "execute_result"
    }
   ],
   "source": [
    "50%3"
   ]
  },
  {
   "cell_type": "code",
   "execution_count": 43,
   "id": "de63750e",
   "metadata": {},
   "outputs": [
    {
     "data": {
      "text/plain": [
       "30517578125000000000000000"
      ]
     },
     "execution_count": 43,
     "metadata": {},
     "output_type": "execute_result"
    }
   ],
   "source": [
    "50**15"
   ]
  },
  {
   "cell_type": "code",
   "execution_count": 44,
   "id": "14511a41",
   "metadata": {},
   "outputs": [
    {
     "data": {
      "text/plain": [
       "int"
      ]
     },
     "execution_count": 44,
     "metadata": {},
     "output_type": "execute_result"
    }
   ],
   "source": [
    "type(5)"
   ]
  },
  {
   "cell_type": "code",
   "execution_count": 45,
   "id": "d49df3f0",
   "metadata": {},
   "outputs": [
    {
     "data": {
      "text/plain": [
       "2.0"
      ]
     },
     "execution_count": 45,
     "metadata": {},
     "output_type": "execute_result"
    }
   ],
   "source": [
    "4/2"
   ]
  },
  {
   "cell_type": "code",
   "execution_count": 46,
   "id": "65f02027",
   "metadata": {},
   "outputs": [
    {
     "data": {
      "text/plain": [
       "2"
      ]
     },
     "execution_count": 46,
     "metadata": {},
     "output_type": "execute_result"
    }
   ],
   "source": [
    "4//2"
   ]
  },
  {
   "cell_type": "code",
   "execution_count": 47,
   "id": "8ace3647",
   "metadata": {},
   "outputs": [
    {
     "data": {
      "text/plain": [
       "2.5"
      ]
     },
     "execution_count": 47,
     "metadata": {},
     "output_type": "execute_result"
    }
   ],
   "source": [
    "5/2"
   ]
  },
  {
   "cell_type": "code",
   "execution_count": 48,
   "id": "f00e137c",
   "metadata": {},
   "outputs": [
    {
     "data": {
      "text/plain": [
       "2"
      ]
     },
     "execution_count": 48,
     "metadata": {},
     "output_type": "execute_result"
    }
   ],
   "source": [
    "5//2"
   ]
  },
  {
   "cell_type": "code",
   "execution_count": 49,
   "id": "5f7b0342",
   "metadata": {},
   "outputs": [
    {
     "data": {
      "text/plain": [
       "4"
      ]
     },
     "execution_count": 49,
     "metadata": {},
     "output_type": "execute_result"
    }
   ],
   "source": [
    "3*8//5"
   ]
  },
  {
   "cell_type": "code",
   "execution_count": 50,
   "id": "fbd33d83",
   "metadata": {},
   "outputs": [
    {
     "data": {
      "text/plain": [
       "5"
      ]
     },
     "execution_count": 50,
     "metadata": {},
     "output_type": "execute_result"
    }
   ],
   "source": [
    "int(5.5)"
   ]
  },
  {
   "cell_type": "code",
   "execution_count": 51,
   "id": "72bb7d53",
   "metadata": {},
   "outputs": [
    {
     "data": {
      "text/plain": [
       "5.0"
      ]
     },
     "execution_count": 51,
     "metadata": {},
     "output_type": "execute_result"
    }
   ],
   "source": [
    "float(5)"
   ]
  },
  {
   "cell_type": "code",
   "execution_count": 52,
   "id": "d4727dfc",
   "metadata": {},
   "outputs": [
    {
     "data": {
      "text/plain": [
       "'0x37'"
      ]
     },
     "execution_count": 52,
     "metadata": {},
     "output_type": "execute_result"
    }
   ],
   "source": [
    "hex(55)"
   ]
  },
  {
   "cell_type": "code",
   "execution_count": 53,
   "id": "f60c4b4b",
   "metadata": {},
   "outputs": [
    {
     "data": {
      "text/plain": [
       "'0o67'"
      ]
     },
     "execution_count": 53,
     "metadata": {},
     "output_type": "execute_result"
    }
   ],
   "source": [
    "oct(55)"
   ]
  },
  {
   "cell_type": "code",
   "execution_count": 54,
   "id": "0218befa",
   "metadata": {},
   "outputs": [
    {
     "data": {
      "text/plain": [
       "'0b110111'"
      ]
     },
     "execution_count": 54,
     "metadata": {},
     "output_type": "execute_result"
    }
   ],
   "source": [
    "bin(55)"
   ]
  },
  {
   "cell_type": "code",
   "execution_count": 55,
   "id": "99e7e64f",
   "metadata": {},
   "outputs": [
    {
     "data": {
      "text/plain": [
       "1.5"
      ]
     },
     "execution_count": 55,
     "metadata": {},
     "output_type": "execute_result"
    }
   ],
   "source": [
    "round(1.54455454545561351, 1)"
   ]
  },
  {
   "cell_type": "code",
   "execution_count": 56,
   "id": "7c7b015c",
   "metadata": {},
   "outputs": [
    {
     "data": {
      "text/plain": [
       "1.5"
      ]
     },
     "execution_count": 56,
     "metadata": {},
     "output_type": "execute_result"
    }
   ],
   "source": [
    "abs(1.5)"
   ]
  },
  {
   "cell_type": "code",
   "execution_count": 57,
   "id": "77606337",
   "metadata": {},
   "outputs": [
    {
     "data": {
      "text/plain": [
       "3125"
      ]
     },
     "execution_count": 57,
     "metadata": {},
     "output_type": "execute_result"
    }
   ],
   "source": [
    "pow(5,5)"
   ]
  },
  {
   "cell_type": "code",
   "execution_count": 58,
   "id": "c943a9de",
   "metadata": {},
   "outputs": [
    {
     "name": "stdout",
     "output_type": "stream",
     "text": [
      "<class 'int'>\n"
     ]
    }
   ],
   "source": [
    "var_teste = 15\n",
    "print(type(var_teste))"
   ]
  },
  {
   "cell_type": "code",
   "execution_count": 59,
   "id": "be237076",
   "metadata": {},
   "outputs": [],
   "source": [
    "var_teste = True or False or False"
   ]
  },
  {
   "cell_type": "code",
   "execution_count": 60,
   "id": "facf238c",
   "metadata": {},
   "outputs": [
    {
     "data": {
      "text/plain": [
       "bool"
      ]
     },
     "execution_count": 60,
     "metadata": {},
     "output_type": "execute_result"
    }
   ],
   "source": [
    "type(var_teste)"
   ]
  },
  {
   "cell_type": "code",
   "execution_count": 61,
   "id": "ee74e510",
   "metadata": {},
   "outputs": [
    {
     "name": "stdout",
     "output_type": "stream",
     "text": [
      "100 200 300\n"
     ]
    }
   ],
   "source": [
    "p1, p2, p3 = 100, 200, 300 \n",
    "print(p1, p2, p3)"
   ]
  },
  {
   "cell_type": "code",
   "execution_count": 62,
   "id": "d7a9bdb8",
   "metadata": {},
   "outputs": [],
   "source": [
    "p4 = 1\n",
    "p5 = 2\n",
    "p6 = 6\n",
    "\n",
    "p7 = p4 = p5 = p6*5"
   ]
  },
  {
   "cell_type": "code",
   "execution_count": 63,
   "id": "d14ddde8",
   "metadata": {},
   "outputs": [
    {
     "data": {
      "text/plain": [
       "30"
      ]
     },
     "execution_count": 63,
     "metadata": {},
     "output_type": "execute_result"
    }
   ],
   "source": [
    "p7"
   ]
  },
  {
   "cell_type": "code",
   "execution_count": 64,
   "id": "8cef52de",
   "metadata": {},
   "outputs": [
    {
     "name": "stdout",
     "output_type": "stream",
     "text": [
      "NotebookNotebookNotebook\n",
      "\n",
      "index[0] = N\n",
      "index[1] = o\n",
      "index[2] = t\n",
      "index[3] = e\n",
      "index[4] = b\n",
      "index[5] = o\n",
      "index[6] = o\n",
      "index[7] = k\n"
     ]
    }
   ],
   "source": [
    "w = \"Notebook\"\n",
    "c = -1\n",
    "print(f\"{w*3}\\n\")\n",
    "for i in w:\n",
    "    c=c+1\n",
    "    print(f\"index[{c}] = {i}\")"
   ]
  },
  {
   "cell_type": "code",
   "execution_count": 65,
   "id": "f296311e",
   "metadata": {},
   "outputs": [
    {
     "name": "stdout",
     "output_type": "stream",
     "text": [
      "koobetoN\n",
      "Noteboo\n",
      "k\n"
     ]
    }
   ],
   "source": [
    "word = \"Jupyter Notebook\"\n",
    "\n",
    "print(w[::-1])\n",
    "print(w[:-1])\n",
    "print(w[-1])"
   ]
  },
  {
   "cell_type": "code",
   "execution_count": null,
   "id": "51cee423",
   "metadata": {},
   "outputs": [],
   "source": []
  }
 ],
 "metadata": {
  "kernelspec": {
   "display_name": "Python 3 (ipykernel)",
   "language": "python",
   "name": "python3"
  },
  "language_info": {
   "codemirror_mode": {
    "name": "ipython",
    "version": 3
   },
   "file_extension": ".py",
   "mimetype": "text/x-python",
   "name": "python",
   "nbconvert_exporter": "python",
   "pygments_lexer": "ipython3",
   "version": "3.11.5"
  }
 },
 "nbformat": 4,
 "nbformat_minor": 5
}
