{
 "cells": [
  {
   "cell_type": "markdown",
   "id": "a8a382fe",
   "metadata": {},
   "source": [
    "# Introdução a lógica de programação com python"
   ]
  },
  {
   "cell_type": "markdown",
   "id": "cc7367c8",
   "metadata": {},
   "source": [
    "### Lógica 1"
   ]
  },
  {
   "cell_type": "code",
   "execution_count": 5,
   "id": "21210b21",
   "metadata": {},
   "outputs": [
    {
     "name": "stdout",
     "output_type": "stream",
     "text": [
      "Seja bem vindo: \n",
      "insira o valor da altura: -1\n",
      "insira o valor da base: -56\n",
      "\n",
      "A área é: 56.0\n"
     ]
    }
   ],
   "source": [
    "### Área do paralelogramo\n",
    "\n",
    "print (\"Seja bem vindo: \")\n",
    "altura = float(input(\"insira o valor da altura: \"))\n",
    "base= float(input(\"insira o valor da base: \"))\n",
    "\n",
    "areaParalelogramo = base * altura\n",
    "print(\"\\nA área é:\", areaParalelogramo)"
   ]
  },
  {
   "cell_type": "code",
   "execution_count": 4,
   "id": "de89eefd",
   "metadata": {},
   "outputs": [
    {
     "name": "stdout",
     "output_type": "stream",
     "text": [
      "### Operações Matemáticas ###\n",
      "Insira o valor 1: 56\n",
      "Insira o valor 2: 2\n",
      "58.0\n",
      "54.0\n",
      "28.0\n",
      "3136.0\n"
     ]
    }
   ],
   "source": [
    "print(\"### Operações Matemáticas ###\")\n",
    "\n",
    "v1 = float(input(\"Insira o valor 1: \"))\n",
    "v2 = float(input(\"Insira o valor 2: \"))\n",
    "\n",
    "def soma(a, b):\n",
    "    return a+b\n",
    "\n",
    "def subtracao(a, b):\n",
    "    return a-b\n",
    "\n",
    "def divisao(a, b):\n",
    "    return a/b\n",
    "\n",
    "def mulplicacao(a, b):\n",
    "    return a*b\n",
    "\n",
    "def potencia(a, b):\n",
    "    return a**b\n",
    "\n",
    "print(soma(v1,v2))\n",
    "print(subtracao(v1,v2))\n",
    "print(divisao(v1,v2))\n",
    "print(potencia(v1,v2))"
   ]
  },
  {
   "cell_type": "markdown",
   "id": "2b5fa2b0",
   "metadata": {},
   "source": [
    "##### Bubble Sort"
   ]
  },
  {
   "cell_type": "code",
   "execution_count": 10,
   "id": "13ddae33",
   "metadata": {},
   "outputs": [],
   "source": [
    "def bubbleSort(arr):\n",
    "    #definindo tamanho da lista e colocando o tamanho da lista sendo inserida\n",
    "    n=len(arr)\n",
    "    #para cada elemento i do array\n",
    "    for i in range(n):\n",
    "        #para cada elemento j no array\n",
    "        for j in range(0, n-i-1):\n",
    "            #se elemento i for maior que o j\n",
    "            if (arr[j] > arr[j+1]):\n",
    "                #troque os elementos i e j\n",
    "                arr[j], arr[j+1]= arr[j+1], arr[j]\n",
    "    return arr\n",
    "    "
   ]
  },
  {
   "cell_type": "code",
   "execution_count": 11,
   "id": "617eb62f",
   "metadata": {},
   "outputs": [],
   "source": [
    "x = [51,4,8,4,8,42,1,8,84,66,1,1,4,4,841,85]\n"
   ]
  },
  {
   "cell_type": "code",
   "execution_count": 12,
   "id": "b06110f1",
   "metadata": {},
   "outputs": [
    {
     "data": {
      "text/plain": [
       "[1, 1, 1, 4, 4, 4, 4, 8, 8, 8, 42, 51, 66, 84, 85, 841]"
      ]
     },
     "execution_count": 12,
     "metadata": {},
     "output_type": "execute_result"
    }
   ],
   "source": [
    "bubbleSort(x)"
   ]
  },
  {
   "cell_type": "code",
   "execution_count": null,
   "id": "4db1ee22",
   "metadata": {},
   "outputs": [],
   "source": []
  }
 ],
 "metadata": {
  "kernelspec": {
   "display_name": "Python 3 (ipykernel)",
   "language": "python",
   "name": "python3"
  },
  "language_info": {
   "codemirror_mode": {
    "name": "ipython",
    "version": 3
   },
   "file_extension": ".py",
   "mimetype": "text/x-python",
   "name": "python",
   "nbconvert_exporter": "python",
   "pygments_lexer": "ipython3",
   "version": "3.11.5"
  }
 },
 "nbformat": 4,
 "nbformat_minor": 5
}
