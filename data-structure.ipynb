{
 "cells": [
  {
   "cell_type": "markdown",
   "id": "85a11f36",
   "metadata": {},
   "source": [
    "# Data Structure"
   ]
  },
  {
   "cell_type": "markdown",
   "id": "ce436d5b",
   "metadata": {},
   "source": [
    "###### Criando uma lista"
   ]
  },
  {
   "cell_type": "code",
   "execution_count": 1,
   "id": "67a31521",
   "metadata": {},
   "outputs": [
    {
     "name": "stdout",
     "output_type": "stream",
     "text": [
      "['A', 'B', 'C', 'D']\n"
     ]
    }
   ],
   "source": [
    "lista1 = [\"A\", \"B\", \"C\", \"D\"]\n",
    "print(lista1)"
   ]
  },
  {
   "cell_type": "code",
   "execution_count": 2,
   "id": "525e9bc2",
   "metadata": {},
   "outputs": [
    {
     "name": "stdout",
     "output_type": "stream",
     "text": [
      "[1, 2, 3, 'quatro']\n"
     ]
    }
   ],
   "source": [
    "lista2 = [1,2,3, \"quatro\"]\n",
    "print(lista2)"
   ]
  },
  {
   "cell_type": "code",
   "execution_count": 11,
   "id": "24dd5ab4",
   "metadata": {},
   "outputs": [
    {
     "name": "stdout",
     "output_type": "stream",
     "text": [
      "[[1, 2, 3], [4, 5, 6], [7, 8, 9]]\n",
      "\n",
      " 1\n"
     ]
    }
   ],
   "source": [
    "lista_aninhada = [[1,2,3],[4,5,6],[7,8,9]]\n",
    "print(lista_aninhada)\n",
    "\n",
    "# Pegando o primeiro indice da primeira lista\n",
    "print(\"\\n\",lista_aninhada[0][0])"
   ]
  },
  {
   "cell_type": "code",
   "execution_count": 1,
   "id": "0b148e71",
   "metadata": {},
   "outputs": [],
   "source": [
    "lista = [2,3,5,6,32,66,55,22,33,22,44,52,58]"
   ]
  },
  {
   "cell_type": "code",
   "execution_count": 2,
   "id": "84f3cb12",
   "metadata": {},
   "outputs": [
    {
     "data": {
      "text/plain": [
       "13"
      ]
     },
     "execution_count": 2,
     "metadata": {},
     "output_type": "execute_result"
    }
   ],
   "source": [
    "len(lista)"
   ]
  },
  {
   "cell_type": "code",
   "execution_count": 3,
   "id": "28080c68",
   "metadata": {},
   "outputs": [
    {
     "data": {
      "text/plain": [
       "2"
      ]
     },
     "execution_count": 3,
     "metadata": {},
     "output_type": "execute_result"
    }
   ],
   "source": [
    "min(lista)"
   ]
  },
  {
   "cell_type": "code",
   "execution_count": 4,
   "id": "9e3ea625",
   "metadata": {},
   "outputs": [
    {
     "data": {
      "text/plain": [
       "66"
      ]
     },
     "execution_count": 4,
     "metadata": {},
     "output_type": "execute_result"
    }
   ],
   "source": [
    "max(lista)"
   ]
  },
  {
   "cell_type": "code",
   "execution_count": 15,
   "id": "0aa8f786",
   "metadata": {},
   "outputs": [
    {
     "data": {
      "text/plain": [
       "[2, 3, 5, 6, 32, 66, 55, 22, 33, 22, 44, 52, 58, 18, 18, 18, 18, 18]"
      ]
     },
     "execution_count": 15,
     "metadata": {},
     "output_type": "execute_result"
    }
   ],
   "source": [
    "#adicionando\n",
    "lista.append(18)\n",
    "lista"
   ]
  },
  {
   "cell_type": "code",
   "execution_count": 16,
   "id": "bc12dd9f",
   "metadata": {},
   "outputs": [
    {
     "data": {
      "text/plain": [
       "[2, 3, 5, 6, 32, 66, 55, 22, 33, 22, 44, 52, 58, 18, 18, 18, 18]"
      ]
     },
     "execution_count": 16,
     "metadata": {},
     "output_type": "execute_result"
    }
   ],
   "source": [
    "#removendo\n",
    "lista.pop()\n",
    "lista"
   ]
  },
  {
   "cell_type": "code",
   "execution_count": 17,
   "id": "479dca50",
   "metadata": {},
   "outputs": [
    {
     "data": {
      "text/plain": [
       "4"
      ]
     },
     "execution_count": 17,
     "metadata": {},
     "output_type": "execute_result"
    }
   ],
   "source": [
    "lista.count(18)"
   ]
  },
  {
   "cell_type": "code",
   "execution_count": 20,
   "id": "d2d1f7cb",
   "metadata": {},
   "outputs": [
    {
     "data": {
      "text/plain": [
       "0"
      ]
     },
     "execution_count": 20,
     "metadata": {},
     "output_type": "execute_result"
    }
   ],
   "source": [
    "lista.count(1)"
   ]
  },
  {
   "cell_type": "code",
   "execution_count": 23,
   "id": "a136d82c",
   "metadata": {},
   "outputs": [
    {
     "data": {
      "text/plain": [
       "[2, 3, 5, 6, 32, 66, 55, 22, 33, 22, 44, 52, 58, 18, 18, 18, 18]"
      ]
     },
     "execution_count": 23,
     "metadata": {},
     "output_type": "execute_result"
    }
   ],
   "source": [
    "# add os elementos de uma lista em outra\n",
    "novaLista = []\n",
    "for item in lista:\n",
    "    novaLista.append(item);\n",
    "    \n",
    "novaLista"
   ]
  },
  {
   "cell_type": "code",
   "execution_count": 34,
   "id": "d9d734b7",
   "metadata": {},
   "outputs": [
    {
     "data": {
      "text/plain": [
       "[2,\n",
       " 3,\n",
       " 5,\n",
       " 6,\n",
       " 32,\n",
       " 66,\n",
       " 55,\n",
       " 22,\n",
       " 33,\n",
       " 22,\n",
       " 44,\n",
       " 52,\n",
       " 58,\n",
       " 18,\n",
       " 18,\n",
       " 18,\n",
       " 18,\n",
       " 54,\n",
       " 85,\n",
       " 96,\n",
       " 54,\n",
       " 85,\n",
       " 96,\n",
       " 54,\n",
       " 85,\n",
       " 96]"
      ]
     },
     "execution_count": 34,
     "metadata": {},
     "output_type": "execute_result"
    }
   ],
   "source": [
    "novaLista.extend([54,85,96])\n",
    "novaLista"
   ]
  },
  {
   "cell_type": "code",
   "execution_count": 36,
   "id": "9b52f5e4",
   "metadata": {},
   "outputs": [
    {
     "data": {
      "text/plain": [
       "[2,\n",
       " 3,\n",
       " 5,\n",
       " 6,\n",
       " 32,\n",
       " 66,\n",
       " 55,\n",
       " 22,\n",
       " 33,\n",
       " 22,\n",
       " 44,\n",
       " 52,\n",
       " 58,\n",
       " 18,\n",
       " 18,\n",
       " 18,\n",
       " 18,\n",
       " 54,\n",
       " 85,\n",
       " 54,\n",
       " 85,\n",
       " 96,\n",
       " 54,\n",
       " 85,\n",
       " 96]"
      ]
     },
     "execution_count": 36,
     "metadata": {},
     "output_type": "execute_result"
    }
   ],
   "source": [
    "novaLista.remove(96)\n",
    "novaLista"
   ]
  },
  {
   "cell_type": "code",
   "execution_count": 37,
   "id": "92686c6a",
   "metadata": {},
   "outputs": [
    {
     "data": {
      "text/plain": [
       "13"
      ]
     },
     "execution_count": 37,
     "metadata": {},
     "output_type": "execute_result"
    }
   ],
   "source": [
    "novaLista.index(18)"
   ]
  },
  {
   "cell_type": "code",
   "execution_count": 40,
   "id": "d617f4a7",
   "metadata": {},
   "outputs": [
    {
     "data": {
      "text/plain": [
       "[2,\n",
       " 500,\n",
       " 3,\n",
       " 5,\n",
       " 6,\n",
       " 32,\n",
       " 66,\n",
       " 55,\n",
       " 22,\n",
       " 33,\n",
       " 22,\n",
       " 44,\n",
       " 52,\n",
       " 58,\n",
       " 18,\n",
       " 18,\n",
       " 18,\n",
       " 18,\n",
       " 54,\n",
       " 85,\n",
       " 54,\n",
       " 85,\n",
       " 96,\n",
       " 54,\n",
       " 85,\n",
       " 500,\n",
       " 500,\n",
       " 96]"
      ]
     },
     "execution_count": 40,
     "metadata": {},
     "output_type": "execute_result"
    }
   ],
   "source": [
    "novaLista.insert(1, 500)\n",
    "novaLista"
   ]
  },
  {
   "cell_type": "code",
   "execution_count": 42,
   "id": "85415894",
   "metadata": {},
   "outputs": [
    {
     "data": {
      "text/plain": [
       "[2,\n",
       " 3,\n",
       " 5,\n",
       " 6,\n",
       " 32,\n",
       " 66,\n",
       " 55,\n",
       " 22,\n",
       " 33,\n",
       " 22,\n",
       " 44,\n",
       " 52,\n",
       " 58,\n",
       " 18,\n",
       " 18,\n",
       " 18,\n",
       " 18,\n",
       " 54,\n",
       " 85,\n",
       " 54,\n",
       " 85,\n",
       " 96,\n",
       " 54,\n",
       " 85,\n",
       " 500,\n",
       " 500,\n",
       " 96]"
      ]
     },
     "execution_count": 42,
     "metadata": {},
     "output_type": "execute_result"
    }
   ],
   "source": [
    "novaLista.remove(500)\n",
    "novaLista"
   ]
  },
  {
   "cell_type": "code",
   "execution_count": 43,
   "id": "bcc1dfa6",
   "metadata": {},
   "outputs": [
    {
     "data": {
      "text/plain": [
       "[96,\n",
       " 500,\n",
       " 500,\n",
       " 85,\n",
       " 54,\n",
       " 96,\n",
       " 85,\n",
       " 54,\n",
       " 85,\n",
       " 54,\n",
       " 18,\n",
       " 18,\n",
       " 18,\n",
       " 18,\n",
       " 58,\n",
       " 52,\n",
       " 44,\n",
       " 22,\n",
       " 33,\n",
       " 22,\n",
       " 55,\n",
       " 66,\n",
       " 32,\n",
       " 6,\n",
       " 5,\n",
       " 3,\n",
       " 2]"
      ]
     },
     "execution_count": 43,
     "metadata": {},
     "output_type": "execute_result"
    }
   ],
   "source": [
    "novaLista.reverse()\n",
    "novaLista"
   ]
  },
  {
   "cell_type": "code",
   "execution_count": 45,
   "id": "d8b20596",
   "metadata": {},
   "outputs": [
    {
     "data": {
      "text/plain": [
       "[2,\n",
       " 3,\n",
       " 5,\n",
       " 6,\n",
       " 18,\n",
       " 18,\n",
       " 18,\n",
       " 18,\n",
       " 22,\n",
       " 22,\n",
       " 32,\n",
       " 33,\n",
       " 44,\n",
       " 52,\n",
       " 54,\n",
       " 54,\n",
       " 54,\n",
       " 55,\n",
       " 58,\n",
       " 66,\n",
       " 85,\n",
       " 85,\n",
       " 85,\n",
       " 96,\n",
       " 96,\n",
       " 500,\n",
       " 500]"
      ]
     },
     "execution_count": 45,
     "metadata": {},
     "output_type": "execute_result"
    }
   ],
   "source": [
    "novaLista.sort()\n",
    "novaLista"
   ]
  },
  {
   "cell_type": "markdown",
   "id": "ef46094b",
   "metadata": {},
   "source": [
    "#### Dicionários"
   ]
  },
  {
   "cell_type": "code",
   "execution_count": 48,
   "id": "c71738dc",
   "metadata": {},
   "outputs": [
    {
     "ename": "SyntaxError",
     "evalue": "invalid syntax (4156554664.py, line 1)",
     "output_type": "error",
     "traceback": [
      "\u001b[1;36m  Cell \u001b[1;32mIn[48], line 1\u001b[1;36m\u001b[0m\n\u001b[1;33m    NomesPessoas = (\"Ana\":28, \"Cyro\":25, \"Carla\": 38, \"Rafael\": 39)\u001b[0m\n\u001b[1;37m                         ^\u001b[0m\n\u001b[1;31mSyntaxError\u001b[0m\u001b[1;31m:\u001b[0m invalid syntax\n"
     ]
    }
   ],
   "source": [
    "NomesPessoas = (\"Ana\":28, \"Cyro\":25, \"Carla\": 38, \"Rafael\": 39)\n",
    "for i in NomesPessoas:\n",
    "    print(i)"
   ]
  },
  {
   "cell_type": "code",
   "execution_count": null,
   "id": "8f03af03",
   "metadata": {},
   "outputs": [],
   "source": []
  }
 ],
 "metadata": {
  "kernelspec": {
   "display_name": "Python 3 (ipykernel)",
   "language": "python",
   "name": "python3"
  },
  "language_info": {
   "codemirror_mode": {
    "name": "ipython",
    "version": 3
   },
   "file_extension": ".py",
   "mimetype": "text/x-python",
   "name": "python",
   "nbconvert_exporter": "python",
   "pygments_lexer": "ipython3",
   "version": "3.11.5"
  }
 },
 "nbformat": 4,
 "nbformat_minor": 5
}
